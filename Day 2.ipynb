{
 "cells": [
  {
   "cell_type": "code",
   "execution_count": 1,
   "metadata": {},
   "outputs": [
    {
     "name": "stdout",
     "output_type": "stream",
     "text": [
      "Good Morning\n"
     ]
    }
   ],
   "source": [
    "str1 = \"Good Morning\"\n",
    "print(str1)"
   ]
  },
  {
   "cell_type": "markdown",
   "metadata": {},
   "source": [
    "# Back Slash"
   ]
  },
  {
   "cell_type": "code",
   "execution_count": 2,
   "metadata": {},
   "outputs": [
    {
     "name": "stdout",
     "output_type": "stream",
     "text": [
      "Good Morning\n"
     ]
    }
   ],
   "source": [
    "print(\"Good \\\n",
    "Morning\")"
   ]
  },
  {
   "cell_type": "markdown",
   "metadata": {},
   "source": [
    "# Triple Quote"
   ]
  },
  {
   "cell_type": "code",
   "execution_count": 3,
   "metadata": {},
   "outputs": [
    {
     "name": "stdout",
     "output_type": "stream",
     "text": [
      "        *\n",
      "      * * *\n",
      "    * * * * *\n",
      "  * * * * * * *\n",
      "* * * * * * * * *\n",
      "\n"
     ]
    }
   ],
   "source": [
    "print(\"\"\"        *\n",
    "      * * *\n",
    "    * * * * *\n",
    "  * * * * * * *\n",
    "* * * * * * * * *\n",
    "\"\"\")"
   ]
  },
  {
   "cell_type": "markdown",
   "metadata": {},
   "source": [
    "# String Inside Code"
   ]
  },
  {
   "cell_type": "code",
   "execution_count": 4,
   "metadata": {},
   "outputs": [
    {
     "name": "stdout",
     "output_type": "stream",
     "text": [
      "Student's Code\n"
     ]
    }
   ],
   "source": [
    "print(\"Student's Code\")"
   ]
  },
  {
   "cell_type": "markdown",
   "metadata": {},
   "source": [
    "# Escape Sequence of String"
   ]
  },
  {
   "cell_type": "code",
   "execution_count": 5,
   "metadata": {},
   "outputs": [
    {
     "name": "stdout",
     "output_type": "stream",
     "text": [
      "Good\t Morning\n"
     ]
    }
   ],
   "source": [
    "print(\"Good\\t Morning\")"
   ]
  },
  {
   "cell_type": "code",
   "execution_count": 6,
   "metadata": {},
   "outputs": [
    {
     "name": "stdout",
     "output_type": "stream",
     "text": [
      "Good\t Morning\n"
     ]
    }
   ],
   "source": [
    "print(\"Good\\t Morning\")"
   ]
  },
  {
   "cell_type": "code",
   "execution_count": 7,
   "metadata": {},
   "outputs": [
    {
     "name": "stdout",
     "output_type": "stream",
     "text": [
      "Good'set' Morning\n"
     ]
    }
   ],
   "source": [
    "print(\"Good\\'set' Morning\")"
   ]
  },
  {
   "cell_type": "markdown",
   "metadata": {},
   "source": [
    "# Formatted Output"
   ]
  },
  {
   "cell_type": "code",
   "execution_count": 9,
   "metadata": {},
   "outputs": [
    {
     "name": "stdout",
     "output_type": "stream",
     "text": [
      "Student name : Shubham , roll number : 24\n"
     ]
    }
   ],
   "source": [
    "student_name = 'Shubham'\n",
    "roll_no = 24\n",
    "print('Student name : %s , roll number : %d'%(student_name,roll_no))"
   ]
  },
  {
   "cell_type": "code",
   "execution_count": 10,
   "metadata": {},
   "outputs": [
    {
     "name": "stdout",
     "output_type": "stream",
     "text": [
      "Student name : Shubham , roll number : 24\n"
     ]
    }
   ],
   "source": [
    "student_name = 'Shubham'\n",
    "roll_no = 24\n",
    "print('Student name : %s , roll number : %d'%(student_name,roll_no))"
   ]
  },
  {
   "cell_type": "code",
   "execution_count": 11,
   "metadata": {},
   "outputs": [
    {
     "name": "stdout",
     "output_type": "stream",
     "text": [
      "Student name :  Shubham , roll number :  24\n"
     ]
    }
   ],
   "source": [
    "student_name = 'Shubham'\n",
    "roll_no = 24\n",
    "print('Student name : ', student_name ,', roll number : ' , roll_no)"
   ]
  },
  {
   "cell_type": "markdown",
   "metadata": {},
   "source": [
    "# Python Variable & Assignment Statement"
   ]
  },
  {
   "cell_type": "code",
   "execution_count": 12,
   "metadata": {},
   "outputs": [],
   "source": [
    "num = 10"
   ]
  },
  {
   "cell_type": "markdown",
   "metadata": {},
   "source": [
    "- Here 'num' is a variable & '=' is a assignment operator & 10 is data.\n",
    "- Variable means which hold the data."
   ]
  },
  {
   "cell_type": "markdown",
   "metadata": {},
   "source": [
    "## Rules for define a variable \n",
    "- Python is a case sensitive programming language so variable also case sensitive.\n",
    "- Python dose not allow special characters such as @, $, % within identifiers.\n",
    "- In Python variable not start with numbers.\n",
    "- In Python we can not use if , def ,break, continue as variable."
   ]
  },
  {
   "cell_type": "code",
   "execution_count": 16,
   "metadata": {},
   "outputs": [
    {
     "name": "stdout",
     "output_type": "stream",
     "text": [
      "44\n",
      "44\n"
     ]
    }
   ],
   "source": [
    "num1 = num2 =44\n",
    "print (num1)\n",
    "print (num2)"
   ]
  },
  {
   "cell_type": "code",
   "execution_count": 21,
   "metadata": {},
   "outputs": [
    {
     "data": {
      "text/plain": [
       "140722364327664"
      ]
     },
     "execution_count": 21,
     "metadata": {},
     "output_type": "execute_result"
    }
   ],
   "source": [
    "id (num1)"
   ]
  },
  {
   "cell_type": "code",
   "execution_count": 22,
   "metadata": {},
   "outputs": [
    {
     "data": {
      "text/plain": [
       "140722364327664"
      ]
     },
     "execution_count": 22,
     "metadata": {},
     "output_type": "execute_result"
    }
   ],
   "source": [
    "id (num2)"
   ]
  },
  {
   "cell_type": "code",
   "execution_count": 23,
   "metadata": {},
   "outputs": [],
   "source": [
    "del (num1)"
   ]
  },
  {
   "cell_type": "code",
   "execution_count": 24,
   "metadata": {},
   "outputs": [
    {
     "ename": "NameError",
     "evalue": "name 'num1' is not defined",
     "output_type": "error",
     "traceback": [
      "\u001b[1;31m---------------------------------------------------------------------------\u001b[0m",
      "\u001b[1;31mNameError\u001b[0m                                 Traceback (most recent call last)",
      "\u001b[1;32m<ipython-input-24-a122ec103649>\u001b[0m in \u001b[0;36m<module>\u001b[1;34m\u001b[0m\n\u001b[1;32m----> 1\u001b[1;33m \u001b[0mprint\u001b[0m \u001b[1;33m(\u001b[0m\u001b[0mnum1\u001b[0m\u001b[1;33m)\u001b[0m\u001b[1;33m\u001b[0m\u001b[1;33m\u001b[0m\u001b[0m\n\u001b[0m",
      "\u001b[1;31mNameError\u001b[0m: name 'num1' is not defined"
     ]
    }
   ],
   "source": [
    "print (num1)"
   ]
  },
  {
   "cell_type": "code",
   "execution_count": 25,
   "metadata": {},
   "outputs": [],
   "source": [
    "del (num2)"
   ]
  },
  {
   "cell_type": "code",
   "execution_count": 26,
   "metadata": {},
   "outputs": [
    {
     "ename": "NameError",
     "evalue": "name 'num2' is not defined",
     "output_type": "error",
     "traceback": [
      "\u001b[1;31m---------------------------------------------------------------------------\u001b[0m",
      "\u001b[1;31mNameError\u001b[0m                                 Traceback (most recent call last)",
      "\u001b[1;32m<ipython-input-26-c64576a94a72>\u001b[0m in \u001b[0;36m<module>\u001b[1;34m\u001b[0m\n\u001b[1;32m----> 1\u001b[1;33m \u001b[0mprint\u001b[0m\u001b[1;33m(\u001b[0m\u001b[0mnum2\u001b[0m\u001b[1;33m)\u001b[0m\u001b[1;33m\u001b[0m\u001b[1;33m\u001b[0m\u001b[0m\n\u001b[0m",
      "\u001b[1;31mNameError\u001b[0m: name 'num2' is not defined"
     ]
    }
   ],
   "source": [
    "print(num2)"
   ]
  },
  {
   "cell_type": "markdown",
   "metadata": {},
   "source": [
    "# Python Operator"
   ]
  },
  {
   "cell_type": "markdown",
   "metadata": {},
   "source": [
    "Operators are the constructs which can manipulate the value of other operands.\n",
    "Consider the expression 2 + 3 = 5, here 2 & 3 are operands & + is operator.\n",
    "\n",
    "Type of operators :- \n",
    "1. Arithmetic 2. Comparison 3. Bitwise 4. Membership 5. Assignment 6. Logical 7. Identity"
   ]
  },
  {
   "cell_type": "markdown",
   "metadata": {},
   "source": [
    "## Arithmetic Operator:\n",
    "- Addition : a + b\n",
    "- Subtraction : a - b\n",
    "- Multiplication : a * b\n",
    "- Division : a / b\n",
    "- Modulus : a % b\n",
    "- Exponent : a ** b\n",
    "- Floor Division : a // b"
   ]
  },
  {
   "cell_type": "code",
   "execution_count": 27,
   "metadata": {},
   "outputs": [
    {
     "name": "stdout",
     "output_type": "stream",
     "text": [
      "Addition :  140\n"
     ]
    }
   ],
   "source": [
    "num1 , num2 = 121 , 19\n",
    "print(\"Addition : \",num1 + num2)"
   ]
  },
  {
   "cell_type": "code",
   "execution_count": 28,
   "metadata": {},
   "outputs": [
    {
     "name": "stdout",
     "output_type": "stream",
     "text": [
      "Subtraction :  8\n"
     ]
    }
   ],
   "source": [
    "num1 , num2 = 25 , 17\n",
    "print(\"Subtraction : \",num1 - num2)"
   ]
  },
  {
   "cell_type": "code",
   "execution_count": 29,
   "metadata": {},
   "outputs": [
    {
     "name": "stdout",
     "output_type": "stream",
     "text": [
      "Multiplication :  5000\n"
     ]
    }
   ],
   "source": [
    "num1 , num2 = 50 , 100\n",
    "print(\"Multiplication : \",num1 * num2)"
   ]
  },
  {
   "cell_type": "code",
   "execution_count": 30,
   "metadata": {},
   "outputs": [
    {
     "name": "stdout",
     "output_type": "stream",
     "text": [
      "Division :  3.4444444444444446\n"
     ]
    }
   ],
   "source": [
    "num1 , num2 = 155, 45\n",
    "print(\"Division : \",num1 / num2)"
   ]
  },
  {
   "cell_type": "code",
   "execution_count": 31,
   "metadata": {},
   "outputs": [
    {
     "name": "stdout",
     "output_type": "stream",
     "text": [
      "Modulus :  15\n"
     ]
    }
   ],
   "source": [
    "num1 , num2 = 15 , 25\n",
    "print(\"Modulus : \",num1 % num2)"
   ]
  },
  {
   "cell_type": "code",
   "execution_count": 32,
   "metadata": {},
   "outputs": [
    {
     "name": "stdout",
     "output_type": "stream",
     "text": [
      "Exponent :  225\n"
     ]
    }
   ],
   "source": [
    "num1 , num2 = 15 , 2\n",
    "print(\"Exponent : \",num1 ** num2)"
   ]
  },
  {
   "cell_type": "code",
   "execution_count": 33,
   "metadata": {},
   "outputs": [
    {
     "name": "stdout",
     "output_type": "stream",
     "text": [
      "Exponent :  24025\n"
     ]
    }
   ],
   "source": [
    "num1 , num2 = 155 , 2\n",
    "print(\"Exponent : \",num1 ** num2)"
   ]
  },
  {
   "cell_type": "markdown",
   "metadata": {},
   "source": [
    "## Comparision Operator\n",
    "- Equal to : a == b\n",
    "- Not equal to : a != b\n",
    "- Greater than : a > b\n",
    "- Less than : a < b\n",
    "- Greater than equal to : a >= b\n",
    "- Less than equal to : a <= b"
   ]
  },
  {
   "cell_type": "code",
   "execution_count": 34,
   "metadata": {},
   "outputs": [
    {
     "name": "stdout",
     "output_type": "stream",
     "text": [
      "True\n"
     ]
    }
   ],
   "source": [
    "a = b = 91\n",
    "print(a == b)"
   ]
  },
  {
   "cell_type": "code",
   "execution_count": 35,
   "metadata": {},
   "outputs": [
    {
     "name": "stdout",
     "output_type": "stream",
     "text": [
      "True\n"
     ]
    }
   ],
   "source": [
    "a , b = 2,2\n",
    "print(a == b)"
   ]
  },
  {
   "cell_type": "code",
   "execution_count": 36,
   "metadata": {},
   "outputs": [
    {
     "name": "stdout",
     "output_type": "stream",
     "text": [
      "False\n"
     ]
    }
   ],
   "source": [
    "a = b = 19\n",
    "print(a != b)"
   ]
  },
  {
   "cell_type": "code",
   "execution_count": 37,
   "metadata": {},
   "outputs": [
    {
     "name": "stdout",
     "output_type": "stream",
     "text": [
      "True\n"
     ]
    }
   ],
   "source": [
    "a , b = 2,5\n",
    "print(a != b)"
   ]
  },
  {
   "cell_type": "code",
   "execution_count": 38,
   "metadata": {},
   "outputs": [
    {
     "name": "stdout",
     "output_type": "stream",
     "text": [
      "False\n"
     ]
    }
   ],
   "source": [
    "a , b = 2,6\n",
    "print(a > b)"
   ]
  },
  {
   "cell_type": "code",
   "execution_count": 39,
   "metadata": {},
   "outputs": [
    {
     "name": "stdout",
     "output_type": "stream",
     "text": [
      "True\n"
     ]
    }
   ],
   "source": [
    "a , b = 2,6\n",
    "print(a < b)"
   ]
  },
  {
   "cell_type": "code",
   "execution_count": 40,
   "metadata": {},
   "outputs": [
    {
     "name": "stdout",
     "output_type": "stream",
     "text": [
      "True\n"
     ]
    }
   ],
   "source": [
    "a ,b = 12,12\n",
    "print(a <= b)"
   ]
  },
  {
   "cell_type": "code",
   "execution_count": 41,
   "metadata": {},
   "outputs": [
    {
     "name": "stdout",
     "output_type": "stream",
     "text": [
      "False\n"
     ]
    }
   ],
   "source": [
    "a ,b = 11,15\n",
    "print(a >= b)"
   ]
  },
  {
   "cell_type": "markdown",
   "metadata": {},
   "source": [
    "## Bitwise Operator\n",
    "- Binary AND a & b\n",
    "- Binary OR a | b\n",
    "- Binary XOR a ^ b \n",
    "- Binary NOT : a ~ b\n",
    "- Binary Left Shift : a <<\n",
    "- Binary Right Shift : a >> b"
   ]
  },
  {
   "cell_type": "code",
   "execution_count": 47,
   "metadata": {},
   "outputs": [
    {
     "name": "stdout",
     "output_type": "stream",
     "text": [
      "2\n",
      "3\n",
      "1\n",
      "-3\n",
      "16\n",
      "0\n"
     ]
    }
   ],
   "source": [
    "a = 2\n",
    "b = 3\n",
    "print (a & b)\n",
    "print (a | b)\n",
    "print (a ^ b)\n",
    "print (~a)\n",
    "print (a << b)\n",
    "print (a >> b)"
   ]
  },
  {
   "cell_type": "markdown",
   "metadata": {},
   "source": [
    "## Assignment Operator\n",
    "- a = b -> a = b\n",
    "- a += b -> a = a + b\n",
    "- a -= b -> a = a - b\n",
    "- a *= b -> a = a * b\n",
    "- a /= b -> a = a / b\n",
    "- a ** = b -> a = a ** b\n",
    "- a //= b -> a = a // b"
   ]
  },
  {
   "cell_type": "code",
   "execution_count": 49,
   "metadata": {},
   "outputs": [
    {
     "name": "stdout",
     "output_type": "stream",
     "text": [
      "8\n"
     ]
    }
   ],
   "source": [
    "x = 5\n",
    "x += 3\n",
    "print(x)"
   ]
  },
  {
   "cell_type": "code",
   "execution_count": 50,
   "metadata": {},
   "outputs": [
    {
     "name": "stdout",
     "output_type": "stream",
     "text": [
      "2\n"
     ]
    }
   ],
   "source": [
    "x = 5\n",
    "x -= 3\n",
    "print(x)"
   ]
  },
  {
   "cell_type": "code",
   "execution_count": 51,
   "metadata": {},
   "outputs": [
    {
     "name": "stdout",
     "output_type": "stream",
     "text": [
      "15\n"
     ]
    }
   ],
   "source": [
    "x = 5\n",
    "x *= 3\n",
    "print(x)"
   ]
  },
  {
   "cell_type": "code",
   "execution_count": 52,
   "metadata": {},
   "outputs": [
    {
     "name": "stdout",
     "output_type": "stream",
     "text": [
      "1.6666666666666667\n"
     ]
    }
   ],
   "source": [
    "x = 5\n",
    "x /= 3\n",
    "print(x)"
   ]
  },
  {
   "cell_type": "code",
   "execution_count": 53,
   "metadata": {},
   "outputs": [
    {
     "name": "stdout",
     "output_type": "stream",
     "text": [
      "1\n"
     ]
    }
   ],
   "source": [
    "x = 5\n",
    "x //= 3\n",
    "print(x)"
   ]
  },
  {
   "cell_type": "code",
   "execution_count": 54,
   "metadata": {},
   "outputs": [
    {
     "name": "stdout",
     "output_type": "stream",
     "text": [
      "125\n"
     ]
    }
   ],
   "source": [
    "x = 5\n",
    "x **= 3\n",
    "print(x)"
   ]
  },
  {
   "cell_type": "markdown",
   "metadata": {},
   "source": [
    "## Logical Operator \n",
    "- a and b\n",
    "- a or b\n",
    "- not a"
   ]
  },
  {
   "cell_type": "code",
   "execution_count": 55,
   "metadata": {},
   "outputs": [
    {
     "name": "stdout",
     "output_type": "stream",
     "text": [
      "True\n",
      "False\n",
      "True\n",
      "True\n",
      "True\n"
     ]
    }
   ],
   "source": [
    "print (5==5 and 5>3)\n",
    "print (5==6 and 5>3)\n",
    "print (5==5 or 5>3)\n",
    "print (5==6 or 5>3)\n",
    "print (not(5==6 and 5>3))"
   ]
  },
  {
   "cell_type": "markdown",
   "metadata": {},
   "source": [
    "## Membership Operator \n",
    "- in : Evaluates to TRUE if it find a variable in the specified sequence and FALSE otherwise.\n",
    "- not in : Evaluates to TRUE if it does not find a variable in the specified sequence and FALSE otherwise."
   ]
  },
  {
   "cell_type": "code",
   "execution_count": 56,
   "metadata": {},
   "outputs": [
    {
     "name": "stdout",
     "output_type": "stream",
     "text": [
      "False\n",
      "True\n"
     ]
    }
   ],
   "source": [
    "lis = (4,6,9)\n",
    "print (4  not in lis)\n",
    "print (6  in lis)"
   ]
  },
  {
   "cell_type": "markdown",
   "metadata": {},
   "source": [
    "## Identity Operator\n",
    "- is : Evaluates to TRUE if the variables on either side of the operator point to the same object and FALSE otherwise.\n",
    "- is not : Evaluates to FALSE if the variables on either side of the operator point to the same object and TRUE otherwise."
   ]
  },
  {
   "cell_type": "code",
   "execution_count": 57,
   "metadata": {},
   "outputs": [
    {
     "name": "stdout",
     "output_type": "stream",
     "text": [
      "True\n",
      "False\n"
     ]
    }
   ],
   "source": [
    "print (6 is 6)\n",
    "print (6 is not 6)"
   ]
  },
  {
   "cell_type": "markdown",
   "metadata": {},
   "source": [
    "# List and It's Function"
   ]
  },
  {
   "cell_type": "code",
   "execution_count": 58,
   "metadata": {},
   "outputs": [
    {
     "name": "stdout",
     "output_type": "stream",
     "text": [
      "[1, 2, 3, 4, 5]\n",
      "[1, 2, 3, 4, 5, 6, 7]\n",
      "[1, 2, 6, 3, 4, 5, 6, 7]\n",
      "[2, 6, 3, 4, 5, 6, 7]\n",
      "[2, 6, 3, 4, 5, 6]\n",
      "[2, 6, 3, 4, 5, 6]\n",
      "['hi', 'bye']\n",
      "6\n",
      "2\n",
      "range(0, 10, 2)\n"
     ]
    }
   ],
   "source": [
    "a = [1,2,3,4]\n",
    "# append(x): Adds an item (x) to the end of the list.\n",
    "a.append(5)\n",
    "print(a)\n",
    "# extend(iterable): Extends the list by appending all the items from the iterable.This allows you to join two lists together. \n",
    "a.extend([6,7])\n",
    "print(a)\n",
    "# insert(i, x): Inserts an item at a given position.\n",
    "a.insert(2,6)\n",
    "print(a)\n",
    "# remove(x): Removes the first item from the list that has a value of x.\n",
    "a.remove(1)\n",
    "print(a)\n",
    "# pop([i]): Removes the item at the given position in the list, and returns it. If no index is specified, pop() removes and returns the last item in the list.\n",
    "a.pop()\n",
    "print(a)\n",
    "# len(x): Returns the number of items in the list.\n",
    "len(a)\n",
    "print(a)\n",
    "# list([iterable]): The list() constructor returns a mutable sequence list of elements\n",
    "b = ('hi','bye')\n",
    "print(list(b))\n",
    "# max(x): Returns the largest item in an iterable (eg, list) or the largest of two or more arguments.\n",
    "print(max(a))\n",
    "# min(x): Returns the smallest item in an iterable (eg, list) or the smallest of two or more arguments\n",
    "print(min(a))\n",
    "# range(start, stop[, step]): It can be used along with list() to return a list of items between a given range.\n",
    "print(range(0,10,2))"
   ]
  },
  {
   "cell_type": "markdown",
   "metadata": {},
   "source": [
    "# String and It's Function"
   ]
  },
  {
   "cell_type": "code",
   "execution_count": 64,
   "metadata": {},
   "outputs": [
    {
     "name": "stdout",
     "output_type": "stream",
     "text": [
      "Sun \n",
      "SUN \n",
      "False\n",
      "sun rise\n",
      "sun sun sun \n"
     ]
    }
   ],
   "source": [
    "a = 'sun '\n",
    "b = 'rise'\n",
    "# capitalize(): Returns a copy of the string with its first character capitalized and the rest lowercased.\n",
    "print(a.capitalize())\n",
    "# upper(): Returns a copy of the string with all character capitalized\n",
    "print(a.upper())\n",
    "# in(): Membership — Returns True if x exists in the string. Can be multiple characters.\n",
    "print('R' in b)\n",
    "# +: Concatenates (joins) string1 and string2\n",
    "print(a+b)\n",
    "# *: Repeats the string for as many times as specified by x\n",
    "print(a *3)"
   ]
  },
  {
   "cell_type": "markdown",
   "metadata": {},
   "source": [
    "# Tuple and It's Function"
   ]
  },
  {
   "cell_type": "code",
   "execution_count": 65,
   "metadata": {},
   "outputs": [
    {
     "name": "stdout",
     "output_type": "stream",
     "text": [
      "4\n",
      "False\n",
      "('1', '2', 'hi', 'good', '3', '4')\n",
      "(1, 2, 3, 4, 5)\n"
     ]
    }
   ],
   "source": [
    "abc = ('1','2','hi','good')\n",
    "az = ('3', '4')\n",
    "# len(x): Returns the number of items in the tuple.\n",
    "print(len(abc))\n",
    "# in(x): Returns True if x exists in the tuple.\n",
    "print('go' in abc)\n",
    "# +: Concatenates (joins) string1 and string2\n",
    "print(abc+az)\n",
    "# tuple(): Constructor returns a inmutable sequence tuple of elements.\n",
    "n = [1,2,3,4,5]\n",
    "print(tuple(n))\n",
    "# del(): Delete the tuple completely\n",
    "del (n)"
   ]
  },
  {
   "cell_type": "markdown",
   "metadata": {},
   "source": [
    "# Dictionary and It's Function"
   ]
  },
  {
   "cell_type": "code",
   "execution_count": 66,
   "metadata": {},
   "outputs": [
    {
     "name": "stdout",
     "output_type": "stream",
     "text": [
      "dict_items([('brand', 'Ford'), ('model', 'Mustang'), ('year', 1964)])\n",
      "dict_keys(['brand', 'model', 'year'])\n",
      "dict_values(['Ford', 'Mustang', 1964])\n",
      "{'brand': 'Ford', 'model': 'Mustang', 'year': 1964, 'color': 'black'}\n",
      "4\n",
      "{'model': 'Mustang', 'year': 1964, 'color': 'black'}\n"
     ]
    }
   ],
   "source": [
    "m = {\"brand\": \"Ford\",\"model\": \"Mustang\",\"year\": 1964}\n",
    "# items():Returns a list containing a tuple for each key value pair\n",
    "print(m.items())\n",
    "# keys():Returns a list containing the dictionary's keys\n",
    "print(m.keys())\n",
    "# values(): Returns a list of all the values in the dictionary\n",
    "print(m.values())\n",
    "# [\" \"]=\" \": Adding an item to the dictionary is done by using a new index key and assigning a value to it\n",
    "m [\"color\"] = \"black\"\n",
    "print (m)\n",
    "# len(): Shows how many items (key-value pairs) a dictionary has\n",
    "print(len(m))\n",
    "# del(): keyword removes the item with the specified key name or it can also delete the dictionary completely\n",
    "del m[\"brand\"]\n",
    "print (m)"
   ]
  },
  {
   "cell_type": "markdown",
   "metadata": {},
   "source": [
    "# Set and It's Function"
   ]
  },
  {
   "cell_type": "code",
   "execution_count": 67,
   "metadata": {},
   "outputs": [
    {
     "name": "stdout",
     "output_type": "stream",
     "text": [
      "{1, 2, 'a', 'c', 'b'}\n",
      "{1, 2, 3, 4, 'd', 'a', 'c', 'b'}\n",
      "{'a', 'b', 'd', 'c'}\n",
      "{1, 2, 3, 4}\n",
      "{5, 6, 'd', 'a', 'c', 'b'}\n"
     ]
    }
   ],
   "source": [
    "set1 = {'a',1,'b',2}\n",
    "set2 = {1,2,3,4,5,6}\n",
    "# add(): Adds an element to the set.\n",
    "set1.add('c')\n",
    "print(set1)\n",
    "# update(): Update the set with the union of this set and others.\n",
    "set1.update([3,'d',4])\n",
    "print(set1)\n",
    "# difference(): Returns a set containing the difference between two or more sets\n",
    "print(set1.difference(set2))\n",
    "#intersection(): Returns a set, that is the intersection of two other sets\n",
    "set3 = set1.intersection(set2)\n",
    "print(set3)\n",
    "# symmetric_differences(): Returns a set with the symmetric differences of two sets\n",
    "set4 = set1.symmetric_difference(set2)\n",
    "print(set4)"
   ]
  }
 ],
 "metadata": {
  "kernelspec": {
   "display_name": "Python 3",
   "language": "python",
   "name": "python3"
  },
  "language_info": {
   "codemirror_mode": {
    "name": "ipython",
    "version": 3
   },
   "file_extension": ".py",
   "mimetype": "text/x-python",
   "name": "python",
   "nbconvert_exporter": "python",
   "pygments_lexer": "ipython3",
   "version": "3.7.6"
  },
  "toc": {
   "base_numbering": 1,
   "nav_menu": {},
   "number_sections": true,
   "sideBar": true,
   "skip_h1_title": false,
   "title_cell": "Table of Contents",
   "title_sidebar": "Contents",
   "toc_cell": false,
   "toc_position": {},
   "toc_section_display": true,
   "toc_window_display": false
  }
 },
 "nbformat": 4,
 "nbformat_minor": 4
}
